{
  "nbformat": 4,
  "nbformat_minor": 0,
  "metadata": {
    "colab": {
      "provenance": [],
      "authorship_tag": "ABX9TyPxFXAoV8l8YFa+0F4lPhBR",
      "include_colab_link": true
    },
    "kernelspec": {
      "name": "python3",
      "display_name": "Python 3"
    },
    "language_info": {
      "name": "python"
    }
  },
  "cells": [
    {
      "cell_type": "markdown",
      "metadata": {
        "id": "view-in-github",
        "colab_type": "text"
      },
      "source": [
        "<a href=\"https://colab.research.google.com/github/Shiteez306/Challange-Questions-/blob/main/Untitled1.ipynb\" target=\"_parent\"><img src=\"https://colab.research.google.com/assets/colab-badge.svg\" alt=\"Open In Colab\"/></a>"
      ]
    },
    {
      "cell_type": "code",
      "execution_count": 1,
      "metadata": {
        "colab": {
          "base_uri": "https://localhost:8080/"
        },
        "id": "ye_UzTo2gq9R",
        "outputId": "bb48d993-7a5b-472a-9327-57ce94a38c53"
      },
      "outputs": [
        {
          "output_type": "stream",
          "name": "stdout",
          "text": [
            "(-8, 3, 9, 1, -5)\n",
            "(6, -4, 1, 2, -5)\n",
            "(2, -12, -6, 9, 7)\n",
            "(9, -5, 2, 1, -7)\n",
            "(2, 9, 6, -8, -9)\n",
            "(11, -2, -3, 1, -7)\n",
            "(-8, 2, -3, -2, 11)\n",
            "(-4, 6, 11, -8, -5)\n",
            "(6, -5, 3, -6, 2)\n",
            "(-6, 9, -2, 3, -4)\n",
            "(2, -8, 7, -4, 3)\n",
            "(-12, 9, -4, 1, 6)\n",
            "(-5, 9, 3, 2, -9)\n",
            "(-7, 3, -3, 1, 6)\n",
            "(-2, -8, 9, -5, 6)\n",
            "(-6, -4, 6, 1, 3)\n",
            "(-3, -9, 6, 11, -5)\n",
            "(7, 2, 11, -8, -12)\n",
            "(-8, 9, 6, -4, -3)\n",
            "(7, 3, -4, 6, -12)\n",
            "(1, -9, 9, 3, -4)\n",
            "(-2, 2, -5, 9, -4)\n",
            "(6, 2, 3, 1, -12)\n",
            "(2, -12, -2, 11, 1)\n",
            "(3, -12, 9, -6, 6)\n",
            "(-3, 3, 7, -5, -2)\n",
            "(1, -5, -2, -3, 9)\n",
            "(-9, -6, 6, -2, 11)\n",
            "(9, -7, -12, 7, 3)\n",
            "(-2, -3, 6, 3, -4)\n",
            "(-5, 2, -6, 6, 3)\n",
            "(7, -9, -7, 3, 6)\n",
            "(1, 7, 11, -12, -7)\n",
            "\n",
            "Total Sets:  33\n"
          ]
        },
        {
          "output_type": "stream",
          "name": "stderr",
          "text": [
            "<ipython-input-1-863105f7322f>:23: DeprecationWarning: Sampling from a set deprecated\n",
            "since Python 3.9 and will be removed in a subsequent version.\n",
            "  Chromosome = r.sample(Set,SetSize)\n"
          ]
        }
      ],
      "source": [
        "#-------------------------------------------------------------\n",
        "# Step 1: Library inclusion\n",
        "#-------------------------------------------------------------\n",
        "import random as r\n",
        "\n",
        "\n",
        "#-------------------------------------------------------------\n",
        "# Step 2: Parameter Setting\n",
        "#-------------------------------------------------------------\n",
        "Set         = set([-12, -3, -6, 7, 2, -2, 6, 3, 9, -7, -5, -8, 1, 11, -9, -4])\n",
        "SetSize     = 5\n",
        "ResultList  = set()    # Store Result List i.e. list of sets whose sum is zero\n",
        "Iterations  = 1000   # Number of Inerations\n",
        "\n",
        "\n",
        "#-------------------------------------------------------------\n",
        "# Step3: Start Program\n",
        "#-------------------------------------------------------------\n",
        "\n",
        "# Loop till number of Iterations\n",
        "for i in range(Iterations):\n",
        "    # Select number of elements from Set\n",
        "    Chromosome = r.sample(Set,SetSize)\n",
        "\n",
        "    # Sum the number of elements in the Chromosome\n",
        "    if sum(Chromosome) == 0:\n",
        "        ResultList.add(tuple(Chromosome))\n",
        "\n",
        "# Print all the sets whose sum is zero\n",
        "for r in ResultList:\n",
        "\tprint (r)\n",
        "\n",
        "# Print total sets\n",
        "print (\"\\nTotal Sets: \", len(ResultList))\n"
      ]
    }
  ]
}